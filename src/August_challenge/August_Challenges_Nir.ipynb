{
 "cells": [
  {
   "cell_type": "markdown",
   "metadata": {},
   "source": [
    "## August LeetCode Challenge Solutions\n",
    "\n",
    "---\n",
    "\n",
    "|Day | Problem |\n",
    "| :---: | :-------- |\n",
    "| 1 | [Detect Capital](#Day-1:-Detect-Capital)|\n",
    "| 2 | [Design Hashset](#Day-2:-Design-Hashset)|\n",
    "| 3 | [Valid Palindrome](#Day-3:-Valid-Palindrome)|\n",
    "| 4 | [Power of Four](#Day-4:-Power-of-Four)|\n",
    "| 5 | [Add and Search Word - Data structure design](#Day-5:-Add-and-Search-Word)|\n",
    "| 6 | [Find all Duplicates](#Day-6:-Find-all-duplicates)|\n",
    "| 7 | [Vertical Order Traversal of a Binary Tree](#Day-7:-Vertical-Order-Traversal-of-a-Binary-Tree)|\n",
    "| 8 | [Path Sum III](#Day-8:-Path-Sum-III)|\n",
    "| 9 | [Rotting Oranges](#Day-9:-Rotting-Oranges)|\n",
    "| 10 | [Excel column numbers](#Day-10:-Excel-column-numbers)|\n",
    "| 11 | [H-Index](#Day-11:-H-Index)|\n",
    "| 12 | [Pascal's Triangle II](#Day-12:-Pascal's-Triangle-II)|\n",
    "| 13 | [Iterator for Combinations](#Day-13:-Iterator-for-Combination)|\n",
    "| 14 | [Longest Palindrome](#Day-14:-Longest-Palindrome)|\n",
    "| 15 | [Non overlapping intervals](#Day-15:-Non-overlapping-intervals)|\n",
    "\n"
   ]
  },
  {
   "cell_type": "markdown",
   "metadata": {},
   "source": [
    "***\n",
    "\n",
    "### Day 1: Detect Capital\n",
    "\n",
    "[Link](https://leetcode.com/explore/challenge/card/august-leetcoding-challenge/549/week-1-august-1st-august-7th/3409/)\n",
    "\n",
    "Given a word, you need to judge whether the usage of capitals in it is right or not.\n",
    "\n",
    "We define the usage of capitals in a word to be right when one of the following cases holds:\n",
    "\n",
    "- All letters in this word are capitals, like \"USA\".\n",
    "- All letters in this word are not capitals, like \"leetcode\".\n",
    "- Only the first letter in this word is capital, like \"Google\".\n",
    "- Otherwise, we define that this word doesn't use capitals in a right way.\n",
    "\n",
    "**Example 1:**\n",
    "\n",
    "```Python\n",
    "Input: \"USA\"\n",
    "Output: True\n",
    "``` \n",
    "\n",
    "**Example 2:**\n",
    "\n",
    "```Python\n",
    "Input: \"FlaG\"\n",
    "Output: False\n",
    "``` \n",
    "\n",
    "**Note:** The input will be a non-empty word consisting of uppercase and lowercase latin letters."
   ]
  },
  {
   "cell_type": "code",
   "execution_count": 2,
   "metadata": {},
   "outputs": [],
   "source": [
    "def detectCapitalUse(word: str) -> bool:\n",
    "        \n",
    "    def check_all_caps(string):\n",
    "        for c in string:\n",
    "            if ord(c) > 96:\n",
    "                return False\n",
    "        return True\n",
    "\n",
    "    def check_all_small(string):\n",
    "        for c in string:\n",
    "            if ord(c) < 96:\n",
    "                return False\n",
    "        return True\n",
    "\n",
    "    def check_only_first_caps(string):\n",
    "        if ord(string[0]) > 96:\n",
    "            return False\n",
    "        for c in string[1:]:\n",
    "            if ord(c) < 96:\n",
    "                return False\n",
    "        return True\n",
    "\n",
    "    return check_all_caps(word) or check_all_small(word) or check_only_first_caps(word)"
   ]
  },
  {
   "cell_type": "code",
   "execution_count": 3,
   "metadata": {},
   "outputs": [
    {
     "name": "stdout",
     "output_type": "stream",
     "text": [
      "True\n",
      "True\n",
      "False\n"
     ]
    }
   ],
   "source": [
    "print(detectCapitalUse(\"ALLUPPER\"))\n",
    "print(detectCapitalUse(\"alllower\"))\n",
    "print(detectCapitalUse(\"InValid\"))"
   ]
  },
  {
   "cell_type": "markdown",
   "metadata": {},
   "source": [
    "***\n",
    "\n",
    "### Day 2: Design Hashset\n",
    "\n",
    "[Link](https://leetcode.com/explore/challenge/card/august-leetcoding-challenge/549/week-1-august-1st-august-7th/3410/)\n",
    "\n",
    "Design a HashSet without using any built-in hash table libraries.\n",
    "\n",
    "To be specific, your design should include these functions:\n",
    "\n",
    "- `add(value)`: Insert a value into the HashSet. \n",
    "- `contains(value)` : Return whether the value exists in the HashSet or not.\n",
    "- `remove(value)`: Remove a value in the HashSet. If the value does not exist in the HashSet, do nothing.\n"
   ]
  },
  {
   "cell_type": "code",
   "execution_count": 1,
   "metadata": {},
   "outputs": [],
   "source": [
    "class MyHashSet:\n",
    "\n",
    "    def __init__(self):\n",
    "        \"\"\"\n",
    "        Initialize your data structure here.\n",
    "        \"\"\"\n",
    "        self._num_buckets = 1000\n",
    "        self._buckets = [[] for _ in range(self._num_buckets)]\n",
    "        \n",
    "\n",
    "    def add(self, key: int) -> None:\n",
    "        \n",
    "        index = self._hash_func(key)\n",
    "        list_num = self._buckets[index]\n",
    "        if key not in list_num:\n",
    "            list_num.append(key)\n",
    "\n",
    "    def remove(self, key: int) -> None:\n",
    "        \n",
    "        index = self._hash_func(key)\n",
    "        list_num = self._buckets[index]\n",
    "        if key in list_num:\n",
    "            list_num.remove(key)\n",
    "\n",
    "    def contains(self, key: int) -> bool:\n",
    "        \"\"\"\n",
    "        Returns true if this set contains the specified element\n",
    "        \"\"\"\n",
    "        index = self._hash_func(key)\n",
    "        return key in self._buckets[index]\n",
    "        \n",
    "    def _hash_func(self, num):\n",
    "        return num % self._num_buckets"
   ]
  },
  {
   "cell_type": "code",
   "execution_count": 2,
   "metadata": {},
   "outputs": [
    {
     "name": "stdout",
     "output_type": "stream",
     "text": [
      "True\n",
      "False\n",
      "False\n"
     ]
    }
   ],
   "source": [
    "myset = MyHashSet()\n",
    "myset.add(5)\n",
    "print(myset.contains(5))\n",
    "print(myset.contains(6))\n",
    "myset.remove(5)\n",
    "print(myset.contains(5))"
   ]
  },
  {
   "cell_type": "markdown",
   "metadata": {},
   "source": [
    "***\n",
    "\n",
    "### Day 3: Valid Palindrome\n",
    "\n",
    "[Link](https://leetcode.com/explore/challenge/card/august-leetcoding-challenge/549/week-1-august-1st-august-7th/3411/)\n",
    "\n",
    "Given a string, determine if it is a palindrome, considering only alphanumeric characters and ignoring cases.\n",
    "\n",
    "**Note:** For the purpose of this problem, we define empty string as valid palindrome.\n",
    "\n",
    "**Example 1:**\n",
    "\n",
    "```Python\n",
    "Input: \"A man, a plan, a canal: Panama\"\n",
    "Output: true\n",
    "```\n",
    "\n",
    "**Example 2:**\n",
    "\n",
    "```Python\n",
    "Input: \"race a car\"\n",
    "Output: false\n",
    "``` \n",
    "\n",
    "**Constraints:**\n",
    "\n",
    "`s` consists only of printable ASCII characters."
   ]
  },
  {
   "cell_type": "code",
   "execution_count": 3,
   "metadata": {},
   "outputs": [],
   "source": [
    "def isPalindrome(s: str) -> bool:\n",
    "        \n",
    "    def is_alphanumeric(c):\n",
    "        if 65 <= ord(c) <= 90:\n",
    "            return True\n",
    "        if 97 <= ord(c) <= 122:\n",
    "            return True\n",
    "        if 48 <= ord(c) <= 57:\n",
    "            return True\n",
    "        return False\n",
    "\n",
    "    s = s.lower()    \n",
    "\n",
    "    i = 0\n",
    "    j = len(s) - 1\n",
    "    while True:\n",
    "        while i < len(s) and not is_alphanumeric(s[i]):\n",
    "            i += 1\n",
    "        while j >= 0 and not is_alphanumeric(s[j]):\n",
    "            j -= 1\n",
    "        if i > j:\n",
    "            break\n",
    "        if s[i] != s[j]:\n",
    "            return False\n",
    "        i += 1\n",
    "        j -= 1\n",
    "    return True"
   ]
  },
  {
   "cell_type": "code",
   "execution_count": 4,
   "metadata": {},
   "outputs": [
    {
     "name": "stdout",
     "output_type": "stream",
     "text": [
      "True\n",
      "False\n"
     ]
    }
   ],
   "source": [
    "print(isPalindrome(\"A man, a plan, a canal: Panama\"))\n",
    "print(isPalindrome(\"race a car\"))"
   ]
  },
  {
   "cell_type": "markdown",
   "metadata": {},
   "source": [
    "***\n",
    "### Day 4: Power of Four\n",
    "\n",
    "[Link](https://leetcode.com/explore/featured/card/august-leetcoding-challenge/549/week-1-august-1st-august-7th/3412/)\n",
    "\n",
    "Given an integer (signed 32 bits), write a function to check whether it is a power of 4.\n",
    "\n",
    "**Example 1:**\n",
    "```\n",
    "Input: 16\n",
    "Output: true\n",
    "```\n",
    "**Example 2:**\n",
    "```\n",
    "Input: 5\n",
    "Output: false\n",
    "```\n",
    "**Follow up:** Could you solve it without loops/recursion?"
   ]
  },
  {
   "cell_type": "code",
   "execution_count": 7,
   "metadata": {},
   "outputs": [],
   "source": [
    "def isPowerOfFour(num: int) -> bool:\n",
    "\n",
    "    nums = [1 << x for x in range(0, 32, 2)]\n",
    "    return num in nums"
   ]
  },
  {
   "cell_type": "code",
   "execution_count": 8,
   "metadata": {},
   "outputs": [
    {
     "name": "stdout",
     "output_type": "stream",
     "text": [
      "True\n",
      "False\n"
     ]
    }
   ],
   "source": [
    "print(isPowerOfFour(256))\n",
    "print(isPowerOfFour(128))"
   ]
  },
  {
   "cell_type": "markdown",
   "metadata": {},
   "source": [
    "***\n",
    "### Day 5: Add and Search Word\n",
    "\n",
    "[Link](https://leetcode.com/explore/challenge/card/august-leetcoding-challenge/549/week-1-august-1st-august-7th/3413/)\n",
    "\n",
    "Design a data structure that supports the following two operations:\n",
    "\n",
    "```\n",
    "void addWord(word)\n",
    "bool search(word)\n",
    "```\n",
    "`search(word)` can search a literal word or a regular expression string containing only letters a-z or .. A . means it can represent any one letter.\n",
    "\n",
    "***Example:***\n",
    "```\n",
    "addWord(\"bad\")\n",
    "addWord(\"dad\")\n",
    "addWord(\"mad\")\n",
    "search(\"pad\") -> false\n",
    "search(\"bad\") -> true\n",
    "search(\".ad\") -> true\n",
    "search(\"b..\") -> true\n",
    "```\n",
    "***Note:*** You may assume that all words are consist of lowercase letters `a-z`."
   ]
  },
  {
   "cell_type": "code",
   "execution_count": 9,
   "metadata": {},
   "outputs": [],
   "source": [
    "class Node:\n",
    "    \n",
    "    mask = []\n",
    "    is_complete = False\n",
    "    \n",
    "    def __init__(self):        \n",
    "        self.mask = [None for i in range(26)]\n",
    "        self.is_complete = False\n",
    "\n",
    "class WordDictionary:\n",
    "\n",
    "    def __init__(self):\n",
    "        \"\"\"\n",
    "        Initialize your data structure here.\n",
    "        \"\"\"\n",
    "        self.head = Node()\n",
    "        \n",
    "\n",
    "    def addWord(self, word: str) -> None:\n",
    "        \"\"\"\n",
    "        Adds a word into the data structure.\n",
    "        \"\"\"\n",
    "        cur = self.head\n",
    "        for i, c in enumerate(word):\n",
    "            index = ord(c)-97\n",
    "            \n",
    "            if cur.mask[index] == None:\n",
    "                cur.mask[index] = Node()\n",
    "            cur = cur.mask[index]\n",
    "            \n",
    "        cur.is_complete = True      \n",
    "\n",
    "    def search(self, word: str) -> bool:\n",
    "        \"\"\"\n",
    "        Returns if the word is in the data structure. A word could contain the dot character '.' to represent any one letter.\n",
    "        \"\"\"\n",
    "        \n",
    "        def recursive_search(node, word, idx):\n",
    "            if idx == len(word):\n",
    "                return node.is_complete\n",
    "            \n",
    "            c = word[idx]\n",
    "            \n",
    "            found = False\n",
    "            if c == '.':\n",
    "                for i in range(26):\n",
    "                    if node.mask[i]:\n",
    "                        found = recursive_search(node.mask[i], word, idx+1)\n",
    "                    if found:\n",
    "                        return True\n",
    "                return False\n",
    "            else:\n",
    "                index = ord(c) - 97\n",
    "                if node.mask[index]:\n",
    "                    return recursive_search(node.mask[index], word, idx+1)\n",
    "                else:\n",
    "                    return False\n",
    "        \n",
    "        return recursive_search(self.head, word, 0)\n",
    "        "
   ]
  },
  {
   "cell_type": "code",
   "execution_count": 12,
   "metadata": {},
   "outputs": [
    {
     "name": "stdout",
     "output_type": "stream",
     "text": [
      "True\n",
      "False\n",
      "True\n",
      "False\n",
      "False\n"
     ]
    }
   ],
   "source": [
    "d = WordDictionary()\n",
    "d.addWord(\"bat\")\n",
    "d.addWord(\"cat\")\n",
    "print(d.search(\"bat\"))\n",
    "print(d.search(\"rat\"))\n",
    "print(d.search(\".at\"))\n",
    "print(d.search(\"..\"))\n",
    "print(d.search(\".ax\"))"
   ]
  },
  {
   "cell_type": "markdown",
   "metadata": {},
   "source": [
    "***\n",
    "### Day 6: Find all duplicates\n",
    "\n",
    "[Link](https://leetcode.com/explore/challenge/card/august-leetcoding-challenge/549/week-1-august-1st-august-7th/3414/)\n",
    "\n",
    "Given an array of integers, `1 ≤ a[i] ≤ n` (n = size of array), some elements appear twice and others appear once.\n",
    "\n",
    "Find all the elements that appear twice in this array.\n",
    "\n",
    "Could you do it without extra space and in `O(n)` runtime?\n",
    "\n",
    "**Example:**\n",
    "```Python\n",
    "Input:\n",
    "[4,3,2,7,8,2,3,1]\n",
    "\n",
    "Output:\n",
    "[2,3]\n",
    "```"
   ]
  },
  {
   "cell_type": "code",
   "execution_count": 2,
   "metadata": {},
   "outputs": [],
   "source": [
    "def findDuplicates(nums):\n",
    "    # normal\n",
    "    \"\"\"\n",
    "    bag = set()\n",
    "    res = []\n",
    "    for n in nums:\n",
    "        if n in bag:\n",
    "            res.append(n)\n",
    "        bag.add(n)\n",
    "    return res\n",
    "    \"\"\"\n",
    "    res = []\n",
    "    for n in nums:\n",
    "        index = abs(n)-1\n",
    "        if nums[index] < 0:\n",
    "            res.append(index+1)\n",
    "        nums[index] = -nums[index]\n",
    "    return res"
   ]
  },
  {
   "cell_type": "code",
   "execution_count": 3,
   "metadata": {},
   "outputs": [
    {
     "name": "stdout",
     "output_type": "stream",
     "text": [
      "[2, 3]\n"
     ]
    }
   ],
   "source": [
    "print(findDuplicates([4,3,2,7,8,2,3,1]))"
   ]
  },
  {
   "cell_type": "markdown",
   "metadata": {},
   "source": [
    "***\n",
    "### Day 7: Vertical Order Traversal of a Binary Tree\n",
    "\n",
    "[Link](https://leetcode.com/explore/challenge/card/august-leetcoding-challenge/549/week-1-august-1st-august-7th/3415/)\n",
    "\n",
    "Given a binary tree, return the vertical order traversal of its nodes values.\n",
    "\n",
    "For each node at position `(X, Y)`, its left and right children respectively will be at positions `(X-1, Y-1)` and `(X+1, Y-1)`.\n",
    "\n",
    "Running a vertical line from `X = -infinity to X = +infinity`, whenever the vertical line touches some nodes, we report the values of the nodes in order from top to bottom (decreasing Y coordinates).\n",
    "\n",
    "If two nodes have the same position, then the value of the node that is reported first is the value that is smaller.\n",
    "\n",
    "Return an list of non-empty reports in order of `X` coordinate.  Every report will have a list of values of nodes.\n",
    "\n",
    " \n",
    "\n",
    "**Example 1:**\n",
    "\n",
    "![alt text](https://assets.leetcode.com/uploads/2019/01/31/1236_example_1.PNG)\n",
    "\n",
    "```Python\n",
    "Input: [3,9,20,null,null,15,7]\n",
    "Output: [[9],[3,15],[20],[7]]\n",
    "Explanation: \n",
    "Without loss of generality, we can assume the root node is at position (0, 0):\n",
    "Then, the node with value 9 occurs at position (-1, -1);\n",
    "The nodes with values 3 and 15 occur at positions (0, 0) and (0, -2);\n",
    "The node with value 20 occurs at position (1, -1);\n",
    "The node with value 7 occurs at position (2, -2).\n",
    "```\n",
    "\n",
    "**Example 2:**\n",
    "\n",
    "![alt text](https://assets.leetcode.com/uploads/2019/01/31/tree2.png)\n",
    "\n",
    "```Python\n",
    "Input: [1,2,3,4,5,6,7]\n",
    "Output: [[4],[2],[1,5,6],[3],[7]]\n",
    "Explanation: \n",
    "The node with value 5 and the node with value 6 have the same position according to the given scheme.\n",
    "However, in the report \"[1,5,6]\", the node value of 5 comes first since 5 is smaller than 6.\n",
    "``` \n",
    "\n",
    "**Note:**\n",
    "\n",
    "- The tree will have between `1 and 1000` nodes.\n",
    "- Each node's value will be between `0 and 1000`.\n",
    " "
   ]
  },
  {
   "cell_type": "code",
   "execution_count": 4,
   "metadata": {},
   "outputs": [],
   "source": [
    "# Definition for a binary tree node.\n",
    "class TreeNode:\n",
    "    def __init__(self, val=0, left=None, right=None):\n",
    "        self.val = val\n",
    "        self.left = left\n",
    "        self.right = right\n",
    "\n",
    "def verticalTraversal(self, root: TreeNode):\n",
    "\n",
    "    positions = []\n",
    "\n",
    "    def traverse(node, x, y):\n",
    "        if node == None:\n",
    "            return\n",
    "        traverse(node.left, x-1, y-1)\n",
    "        positions.append((x, y, node.val))\n",
    "        traverse(node.right, x+1, y-1)\n",
    "\n",
    "    traverse(root, 0, 0)\n",
    "\n",
    "    sorted_pos = sorted(positions, key=lambda node:(node[0], -node[1], node[2]))\n",
    "    res = [[sorted_pos[0][2]]]\n",
    "    cur_x = sorted_pos[0][0]\n",
    "\n",
    "    for x,y,val in sorted_pos[1:]:\n",
    "        if x == cur_x:\n",
    "            res[-1].append(val)\n",
    "        else:\n",
    "            res.append([val])\n",
    "            cur_x = x\n",
    "    return res"
   ]
  },
  {
   "cell_type": "markdown",
   "metadata": {},
   "source": [
    "***\n",
    "### Day 8: Path Sum III\n",
    "\n",
    "[Link](https://leetcode.com/explore/challenge/card/august-leetcoding-challenge/550/week-2-august-8th-august-14th/3417/)\n",
    "\n",
    "You are given a binary tree in which each node contains an integer value.\n",
    "\n",
    "Find the number of paths that sum to a given value.\n",
    "\n",
    "The path does not need to start or end at the root or a leaf, but it must go downwards (traveling only from parent nodes to child nodes).\n",
    "\n",
    "The tree has no more than 1,000 nodes and the values are in the range `-1,000,000 to 1,000,000.`\n",
    "\n",
    "**Example:**\n",
    "\n",
    "```\n",
    "root = [10,5,-3,3,2,null,11,3,-2,null,1], sum = 8\n",
    "\n",
    "      10\n",
    "     /  \\\n",
    "    5   -3\n",
    "   / \\    \\\n",
    "  3   2   11\n",
    " / \\   \\\n",
    "3  -2   1\n",
    "\n",
    "Return 3. The paths that sum to 8 are:\n",
    "\n",
    "1.  5 -> 3\n",
    "2.  5 -> 2 -> 1\n",
    "3. -3 -> 11\n",
    "\n",
    "```"
   ]
  },
  {
   "cell_type": "code",
   "execution_count": 3,
   "metadata": {},
   "outputs": [],
   "source": [
    "class TreeNode:\n",
    "    def __init__(self, val=0, left=None, right=None):\n",
    "        self.val = val\n",
    "        self.left = left\n",
    "        self.right = right\n",
    "        \n",
    "class Solution:\n",
    "    \n",
    "    def __init__(self):\n",
    "        self.paths = 0\n",
    "    \n",
    "    def helper(self, node, total):\n",
    "        if node != None and node.val == total:\n",
    "            self.paths += 1\n",
    "        if node != None:\n",
    "            total -= node.val\n",
    "            self.helper(node.left, total)\n",
    "            self.helper(node.right, total)\n",
    "            \n",
    "    def pathSum(self, root: TreeNode, summ: int) -> int:\n",
    "        if root == None:\n",
    "            return 0\n",
    "        self.helper(root, summ)\n",
    "        self.pathSum(root.left, summ)\n",
    "        self.pathSum(root.right, summ)\n",
    "        return self.paths"
   ]
  },
  {
   "cell_type": "markdown",
   "metadata": {},
   "source": [
    "***\n",
    "### Day 9: Rotting Oranges\n",
    "\n",
    "[Link](https://leetcode.com/explore/challenge/card/august-leetcoding-challenge/550/week-2-august-8th-august-14th/3418/)\n",
    "\n",
    "In a given grid, each cell can have one of three values:\n",
    "\n",
    "- the value 0 representing an empty cell;\n",
    "- the value 1 representing a fresh orange;\n",
    "- the value 2 representing a rotten orange.\n",
    "\n",
    "Every minute, any fresh orange that is adjacent (4-directionally) to a rotten orange becomes rotten.\n",
    "\n",
    "Return the minimum number of minutes that must elapse until no cell has a fresh orange.  If this is impossible, return -1 instead.\n",
    "\n",
    "![alt text](https://assets.leetcode.com/uploads/2019/02/16/oranges.png)\n",
    "\n",
    "\n",
    "**Example 1:**\n",
    "```python\n",
    "Input: [[2,1,1],[1,1,0],[0,1,1]]\n",
    "Output: 4\n",
    "```\n",
    "**Example 2:**\n",
    "```python\n",
    "Input: [[2,1,1],[0,1,1],[1,0,1]]\n",
    "Output: -1\n",
    "Explanation:  The orange in the bottom left corner (row 2, column 0) is never rotten, because rotting only happens 4-directionally.\n",
    "\n",
    "```\n",
    "**Example 3:**\n",
    "\n",
    "```python\n",
    "Input: [[0,2]]\n",
    "Output: 0\n",
    "Explanation:  Since there are already no fresh oranges at minute 0, the answer is just 0.\n",
    "```\n",
    "\n",
    "**Note:**\n",
    "\n",
    "    1 <= grid.length <= 10\n",
    "    1 <= grid[0].length <= 10\n",
    "    grid[i][j] is only 0, 1, or 2."
   ]
  },
  {
   "cell_type": "code",
   "execution_count": 4,
   "metadata": {},
   "outputs": [],
   "source": [
    "def orangesRotting(grid) -> int:\n",
    "        \n",
    "        rows = len(grid)\n",
    "        cols = len(grid[0])\n",
    "        times = [[-1 for _ in range(cols)] for _ in range(rows)]\n",
    "        maxtime = 0\n",
    "        \n",
    "        def infect(i, j, t):    \n",
    "            \n",
    "            if i < 0 or i >= rows or j < 0 or j >= cols:\n",
    "                return\n",
    "            if t != 0 and abs(grid[i][j]) != 1:\n",
    "                return\n",
    "                \n",
    "            if t == 0 or times[i][j] == -1 or times[i][j] > t:\n",
    "                times[i][j] = t\n",
    "                if grid[i][j] == 1:\n",
    "                    grid[i][j] = -1\n",
    "                \n",
    "                infect(i-1, j, t+1)\n",
    "                infect(i, j-1, t+1)\n",
    "                infect(i, j+1, t+1)\n",
    "                infect(i+1, j, t+1)\n",
    "            \n",
    "        for i in range(rows):\n",
    "            for j in range(cols):\n",
    "                if grid[i][j] == 2:\n",
    "                    infect(i, j, 0)\n",
    "        \n",
    "        for i in range(rows):\n",
    "            for j in range(cols):\n",
    "                if grid[i][j] == 1:\n",
    "                    return -1\n",
    "                maxtime = max(maxtime, times[i][j])\n",
    "                \n",
    "        return maxtime"
   ]
  },
  {
   "cell_type": "code",
   "execution_count": 5,
   "metadata": {},
   "outputs": [
    {
     "name": "stdout",
     "output_type": "stream",
     "text": [
      "4\n"
     ]
    }
   ],
   "source": [
    "print(orangesRotting([[2,1,1],[1,1,0],[0,1,1]]))"
   ]
  },
  {
   "cell_type": "markdown",
   "metadata": {},
   "source": [
    "***\n",
    "### Day 10: Excel column numbers\n",
    "\n",
    "[Link](https://leetcode.com/explore/challenge/card/august-leetcoding-challenge/550/week-2-august-8th-august-14th/3419/)\n",
    "\n",
    "Given a column title as appear in an Excel sheet, return its corresponding column number.\n",
    "\n",
    "For example:\n",
    "\n",
    "    A -> 1\n",
    "    B -> 2\n",
    "    C -> 3\n",
    "    \n",
    "    Z -> 26\n",
    "    AA -> 27\n",
    "    AB -> 28 \n",
    "\n",
    "**Example 1:**\n",
    "\n",
    "    Input: \"A\"\n",
    "    Output: 1\n",
    "\n",
    "**Example 2:**\n",
    "\n",
    "    Input: \"AB\"\n",
    "    Output: 28\n",
    "\n",
    "**Example 3:**\n",
    "\n",
    "    Input: \"ZY\"\n",
    "    Output: 701\n",
    " \n",
    "\n",
    "**Constraints:**\n",
    "\n",
    "    1 <= s.length <= 7\n",
    "    s consists only of uppercase English letters.\n",
    "    s is between \"A\" and \"FXSHRXW\"."
   ]
  },
  {
   "cell_type": "code",
   "execution_count": 1,
   "metadata": {},
   "outputs": [],
   "source": [
    "def titleToNumber(s: str) -> int:\n",
    "    num = 0\n",
    "    for i, c in enumerate(s[::-1]):\n",
    "        num += ((26 ** i) * (ord(c)-64))\n",
    "    return num"
   ]
  },
  {
   "cell_type": "code",
   "execution_count": 2,
   "metadata": {},
   "outputs": [
    {
     "name": "stdout",
     "output_type": "stream",
     "text": [
      "701\n"
     ]
    }
   ],
   "source": [
    "print(titleToNumber(\"ZY\"))"
   ]
  },
  {
   "cell_type": "markdown",
   "metadata": {},
   "source": [
    "***\n",
    "### Day 11: H-Index\n",
    "\n",
    "[Link](https://leetcode.com/explore/challenge/card/august-leetcoding-challenge/550/week-2-august-8th-august-14th/3420/)\n",
    "\n",
    "Given an array of citations (each citation is a non-negative integer) of a researcher, write a function to compute the researcher's h-index.\n",
    "\n",
    "According to the definition of h-index on Wikipedia: **\"A scientist has index h if h of his/her N papers have at least h citations each, and the other N − h papers have no more than h citations each.\"**\n",
    "\n",
    "Example:\n",
    "\n",
    "```python\n",
    "Input: citations = [3,0,6,1,5]\n",
    "Output: 3 \n",
    "Explanation: [3,0,6,1,5] means the researcher has 5 papers in total and each of them had \n",
    "             received 3, 0, 6, 1, 5 citations respectively. \n",
    "             Since the researcher has 3 papers with at least 3 citations each and the remaining \n",
    "             two with no more than 3 citations each, her h-index is 3.\n",
    "```\n",
    "***Note:*** If there are several possible values for h, the maximum one is taken as the h-index."
   ]
  },
  {
   "cell_type": "code",
   "execution_count": 4,
   "metadata": {},
   "outputs": [],
   "source": [
    "def hIndex(citations) -> int:\n",
    "    if len(citations) == 0:\n",
    "        return 0\n",
    "    citations.sort()\n",
    "    hindex = 0\n",
    "    i = 0\n",
    "    for h in range(citations[-1]+2):\n",
    "        while i < len(citations) and h > citations[i]:\n",
    "            i += 1\n",
    "        count = len(citations) - i\n",
    "        if count >= h:\n",
    "            hindex = h\n",
    "        else:\n",
    "            return hindex\n",
    "    return hindex\n",
    "\n",
    "# Me 2 years ago:\n",
    "def hIndexOld(citations):\n",
    "    \"\"\"\n",
    "    :type citations: List[int]\n",
    "    :rtype: int\n",
    "    \"\"\"\n",
    "    citations.sort()\n",
    "    N = len(citations)\n",
    "    h = 0\n",
    "    for i, x in enumerate(citations):\n",
    "        rem = N-i\n",
    "        if x >= rem:\n",
    "            h = rem\n",
    "            break\n",
    "    return h"
   ]
  },
  {
   "cell_type": "code",
   "execution_count": 6,
   "metadata": {},
   "outputs": [
    {
     "name": "stdout",
     "output_type": "stream",
     "text": [
      "3\n",
      "4\n",
      "5\n"
     ]
    }
   ],
   "source": [
    "print(hIndex([0, 1, 2, 5, 6, 7]))\n",
    "print(hIndex([0, 1, 2, 5, 6, 7, 8]))\n",
    "print(hIndex([0, 1, 2, 5, 6, 7, 8, 9]))"
   ]
  },
  {
   "cell_type": "markdown",
   "metadata": {},
   "source": [
    "***\n",
    "### Day 12: Pascal's Triangle II\n",
    "\n",
    "[Link](https://leetcode.com/explore/challenge/card/august-leetcoding-challenge/550/week-2-august-8th-august-14th/3421/)\n",
    "\n",
    "Given a non-negative index `k where k ≤ 33`, return the kth index row of the Pascal's triangle.\n",
    "\n",
    "Note that the row index starts from 0.\n",
    "\n",
    "![alt text](https://upload.wikimedia.org/wikipedia/commons/0/0d/PascalTriangleAnimated2.gif)\n",
    "\n",
    "In Pascal's triangle, each number is the sum of the two numbers directly above it.\n",
    "\n",
    "```python\n",
    "Example:\n",
    "\n",
    "Input: 3\n",
    "Output: [1,3,3,1]\n",
    "```\n",
    "***Follow up:***\n",
    "\n",
    "Could you optimize your algorithm to use only `O(k)` extra space?"
   ]
  },
  {
   "cell_type": "code",
   "execution_count": 10,
   "metadata": {},
   "outputs": [],
   "source": [
    "def getRow(rowIndex: int):\n",
    "\n",
    "    ret = [1 for _ in range(rowIndex+1)]\n",
    "    count = 2\n",
    "    while count <= rowIndex:\n",
    "        one = ret[0]\n",
    "        two = ret[1]\n",
    "        i = 1\n",
    "        while i < count:\n",
    "            ret[i] = one + two\n",
    "            one = two\n",
    "            two = ret[i+1]\n",
    "            i += 1\n",
    "        count += 1\n",
    "    return ret"
   ]
  },
  {
   "cell_type": "code",
   "execution_count": 12,
   "metadata": {},
   "outputs": [
    {
     "name": "stdout",
     "output_type": "stream",
     "text": [
      "[1, 10, 45, 120, 210, 252, 210, 120, 45, 10, 1]\n"
     ]
    }
   ],
   "source": [
    "print(getRow(10))"
   ]
  },
  {
   "cell_type": "markdown",
   "metadata": {},
   "source": [
    "***\n",
    "### Day 13: Iterator for Combination\n",
    "\n",
    "[Link](https://leetcode.com/explore/challenge/card/august-leetcoding-challenge/550/week-2-august-8th-august-14th/3422/)\n",
    "\n",
    "Design an Iterator class, which has:\n",
    "\n",
    "- A constructor that takes a string `characters` of sorted distinct lowercase English letters and a number `combinationLength` as arguments.\n",
    "- A function `next()` that returns the next combination of length `combinationLength` in lexicographical order.\n",
    "- A function `hasNext()` that returns `True` if and only if there exists a next combination.\n",
    " \n",
    "\n",
    "**Example:**\n",
    "\n",
    "```python\n",
    "CombinationIterator iterator = new CombinationIterator(\"abc\", 2); // creates the iterator.\n",
    "\n",
    "iterator.next(); // returns \"ab\"\n",
    "iterator.hasNext(); // returns true\n",
    "iterator.next(); // returns \"ac\"\n",
    "iterator.hasNext(); // returns true\n",
    "iterator.next(); // returns \"bc\"\n",
    "iterator.hasNext(); // returns false\n",
    "``` \n",
    "\n",
    "**Constraints:**\n",
    "\n",
    "- `1 <= combinationLength <= characters.length <= 15`\n",
    "- There will be at most `10^4` function calls per test.\n",
    "- It's guaranteed that all calls of the function next are valid."
   ]
  },
  {
   "cell_type": "code",
   "execution_count": 1,
   "metadata": {},
   "outputs": [],
   "source": [
    "class CombinationIterator:\n",
    "\n",
    "    def __init__(self, characters: str, combinationLength: int):\n",
    "        self.it = [i for i in range(combinationLength)]\n",
    "        self.string = sorted(characters)\n",
    "        self.has = True\n",
    "\n",
    "    def next(self) -> str:\n",
    "        ret = \"\".join([self.string[i] for i in self.it])\n",
    "        \n",
    "        i = len(self.it)-1\n",
    "        next_val = len(self.string)\n",
    "        while i > -1:\n",
    "            v = self.it[i]\n",
    "            if v < next_val-1:\n",
    "                self.it[i] += 1\n",
    "                break\n",
    "            else:\n",
    "                next_val = self.it[i]\n",
    "                i -= 1\n",
    "        if i == -1:\n",
    "            self.has = False\n",
    "            return ret\n",
    "        prev_val = self.it[i]\n",
    "        i += 1\n",
    "        while i < len(self.it):\n",
    "            self.it[i] = prev_val + 1\n",
    "            prev_val = self.it[i]\n",
    "            i += 1\n",
    "        return ret\n",
    "            \n",
    "            \n",
    "    def hasNext(self) -> bool:\n",
    "        return self.has"
   ]
  },
  {
   "cell_type": "code",
   "execution_count": 4,
   "metadata": {},
   "outputs": [
    {
     "name": "stdout",
     "output_type": "stream",
     "text": [
      "True\n",
      "abc\n",
      "abd\n",
      "acd\n",
      "bcd\n",
      "False\n"
     ]
    }
   ],
   "source": [
    "it = CombinationIterator(\"abcd\", 3)\n",
    "print(it.hasNext())\n",
    "print(it.next())\n",
    "print(it.next())\n",
    "print(it.next())\n",
    "print(it.next())\n",
    "print(it.hasNext())"
   ]
  },
  {
   "cell_type": "markdown",
   "metadata": {},
   "source": [
    "***\n",
    "### Day 14: Longest Palindrome\n",
    "\n",
    "[Link](https://leetcode.com/explore/challenge/card/august-leetcoding-challenge/550/week-2-august-8th-august-14th/3423/)\n",
    "\n",
    "Given a string which consists of lowercase or uppercase letters, find the length of the longest palindromes that can be built with those letters.\n",
    "\n",
    "This is case sensitive, for example `\"Aa\"` is not considered a palindrome here.\n",
    "\n",
    "**Note:** Assume the length of given string will not exceed 1,010.\n",
    "\n",
    "**Example:**\n",
    "\n",
    "    Input:\n",
    "    \"abccccdd\"\n",
    "\n",
    "    Output:\n",
    "    7\n",
    "\n",
    "**Explanation:** One longest palindrome that can be built is \"dccaccd\", whose length is 7."
   ]
  },
  {
   "cell_type": "code",
   "execution_count": 1,
   "metadata": {},
   "outputs": [],
   "source": [
    "def longestPalindrome(s: str) -> int:\n",
    "    cnt = [0 for _ in range(26*2)]\n",
    "    for c in s:\n",
    "        if ord(c) > 96:\n",
    "            cnt[ord(c)-97] += 1\n",
    "        else:\n",
    "            cnt[ord(c)-65+26] += 1\n",
    "    maxodd = 0\n",
    "    sumeven = 0\n",
    "    sumodd = 0\n",
    "    odd = False\n",
    "    for n in cnt:\n",
    "        if n % 2 == 0:\n",
    "            sumeven += n\n",
    "        else:\n",
    "            sumodd += (n-1)\n",
    "            odd = True\n",
    "    if sumodd != 0:\n",
    "        sumodd += 1\n",
    "    if odd and sumodd == 0:\n",
    "        sumodd = 1\n",
    "    return sumeven + sumodd \n"
   ]
  },
  {
   "cell_type": "code",
   "execution_count": 2,
   "metadata": {},
   "outputs": [
    {
     "name": "stdout",
     "output_type": "stream",
     "text": [
      "59\n"
     ]
    }
   ],
   "source": [
    "print(longestPalindrome(\"aksdjfkjasdfKLJSKLKJSOAFJLSKJFljkalKjdflkjdflkjLKJSFLKAJFIOJWRIOJFSA\"))"
   ]
  },
  {
   "cell_type": "markdown",
   "metadata": {},
   "source": [
    "***\n",
    "### Day 15: Non overlapping intervals\n",
    "\n",
    "[Link](https://leetcode.com/explore/challenge/card/august-leetcoding-challenge/551/week-3-august-15th-august-21st/3425/)\n",
    "\n",
    "Given a collection of intervals, find the minimum number of intervals you need to remove to make the rest of the intervals non-overlapping.\n",
    "\n",
    " \n",
    "\n",
    "Example 1:\n",
    "```python\n",
    "Input: [[1,2],[2,3],[3,4],[1,3]]\n",
    "Output: 1\n",
    "Explanation: [1,3] can be removed and the rest of intervals are non-overlapping.\n",
    "```\n",
    "Example 2:\n",
    "```python\n",
    "Input: [[1,2],[1,2],[1,2]]\n",
    "Output: 2\n",
    "Explanation: You need to remove two [1,2] to make the rest of intervals non-overlapping.\n",
    "```\n",
    "Example 3:\n",
    "```python\n",
    "Input: [[1,2],[2,3]]\n",
    "Output: 0\n",
    "Explanation: You don't need to remove any of the intervals since they're already non-overlapping.\n",
    "``` \n",
    "\n",
    "Note:\n",
    "\n",
    "- You may assume the interval's end point is always bigger than its start point.\n",
    "- Intervals like `[1,2]` and `[2,3]` have borders \"touching\" but they don't overlap each other."
   ]
  },
  {
   "cell_type": "code",
   "execution_count": 1,
   "metadata": {},
   "outputs": [],
   "source": [
    "def eraseOverlapIntervals(intervals) -> int:\n",
    "\n",
    "    if(len(intervals) == 0):\n",
    "        return 0\n",
    "\n",
    "    sorted_int = sorted(intervals, key=lambda x: (x[0], x[1]))\n",
    "\n",
    "    count = 0\n",
    "    i = 0\n",
    "    j = 1\n",
    "    while j < len(sorted_int):\n",
    "\n",
    "        first = sorted_int[i]\n",
    "        second = sorted_int[j]\n",
    "\n",
    "        if first[1] > second[0]:\n",
    "            count += 1\n",
    "            if first[1] > second[1]: \n",
    "                i = j\n",
    "            j += 1\n",
    "        else:\n",
    "            i = j\n",
    "            j += 1\n",
    "    return count"
   ]
  },
  {
   "cell_type": "code",
   "execution_count": 4,
   "metadata": {},
   "outputs": [
    {
     "name": "stdout",
     "output_type": "stream",
     "text": [
      "1\n",
      "1\n"
     ]
    }
   ],
   "source": [
    "print(eraseOverlapIntervals([[1,2],[2,3],[3,4],[1,3]]))\n",
    "print(eraseOverlapIntervals([[20,40],[30,39],[40,80]]))"
   ]
  },
  {
   "cell_type": "code",
   "execution_count": null,
   "metadata": {},
   "outputs": [],
   "source": []
  }
 ],
 "metadata": {
  "kernelspec": {
   "display_name": "Python 3",
   "language": "python",
   "name": "python3"
  },
  "language_info": {
   "codemirror_mode": {
    "name": "ipython",
    "version": 3
   },
   "file_extension": ".py",
   "mimetype": "text/x-python",
   "name": "python",
   "nbconvert_exporter": "python",
   "pygments_lexer": "ipython3",
   "version": "3.8.2"
  }
 },
 "nbformat": 4,
 "nbformat_minor": 2
}
