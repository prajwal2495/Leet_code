{
 "cells": [
  {
   "cell_type": "markdown",
   "metadata": {},
   "source": [
    "## August LeetCode Challenge Solutions\n",
    "\n",
    "---\n",
    "\n",
    "|Day | Problem |\n",
    "| :---: | :-------- |\n",
    "| 1 | [Detect Capital](#Day-1:-Detect-Capital)|\n",
    "| 2 | [Design Hashset](#Day-2:-Design-Hashset)|\n",
    "| 3 | [Valid Palindrome](#Day-3:-Valid-Palindrome)|\n",
    "| 4 | [Power of Four](#Day-4:-Power-of-Four)|\n",
    "| 5 | [Add and Search Word - Data structure design](#Day-5:-Add-and-Search-Word)|"
   ]
  },
  {
   "cell_type": "markdown",
   "metadata": {},
   "source": [
    "***\n",
    "\n",
    "### Day 1: Detect Capital\n",
    "\n",
    "[Link](https://leetcode.com/explore/challenge/card/august-leetcoding-challenge/549/week-1-august-1st-august-7th/3409/)\n",
    "\n",
    "Given a word, you need to judge whether the usage of capitals in it is right or not.\n",
    "\n",
    "We define the usage of capitals in a word to be right when one of the following cases holds:\n",
    "\n",
    "- All letters in this word are capitals, like \"USA\".\n",
    "- All letters in this word are not capitals, like \"leetcode\".\n",
    "- Only the first letter in this word is capital, like \"Google\".\n",
    "- Otherwise, we define that this word doesn't use capitals in a right way.\n",
    "\n",
    "**Example 1:**\n",
    "\n",
    "```Python\n",
    "Input: \"USA\"\n",
    "Output: True\n",
    "``` \n",
    "\n",
    "**Example 2:**\n",
    "\n",
    "```Python\n",
    "Input: \"FlaG\"\n",
    "Output: False\n",
    "``` \n",
    "\n",
    "**Note:** The input will be a non-empty word consisting of uppercase and lowercase latin letters."
   ]
  },
  {
   "cell_type": "code",
   "execution_count": 2,
   "metadata": {},
   "outputs": [],
   "source": [
    "def detectCapitalUse(word: str) -> bool:\n",
    "        \n",
    "    def check_all_caps(string):\n",
    "        for c in string:\n",
    "            if ord(c) > 96:\n",
    "                return False\n",
    "        return True\n",
    "\n",
    "    def check_all_small(string):\n",
    "        for c in string:\n",
    "            if ord(c) < 96:\n",
    "                return False\n",
    "        return True\n",
    "\n",
    "    def check_only_first_caps(string):\n",
    "        if ord(string[0]) > 96:\n",
    "            return False\n",
    "        for c in string[1:]:\n",
    "            if ord(c) < 96:\n",
    "                return False\n",
    "        return True\n",
    "\n",
    "    return check_all_caps(word) or check_all_small(word) or check_only_first_caps(word)"
   ]
  },
  {
   "cell_type": "code",
   "execution_count": 3,
   "metadata": {},
   "outputs": [
    {
     "name": "stdout",
     "output_type": "stream",
     "text": [
      "True\n",
      "True\n",
      "False\n"
     ]
    }
   ],
   "source": [
    "print(detectCapitalUse(\"ALLUPPER\"))\n",
    "print(detectCapitalUse(\"alllower\"))\n",
    "print(detectCapitalUse(\"InValid\"))"
   ]
  },
  {
   "cell_type": "markdown",
   "metadata": {},
   "source": [
    "***\n",
    "\n",
    "### Day 2: Design Hashset\n",
    "\n",
    "[Link](https://leetcode.com/explore/challenge/card/august-leetcoding-challenge/549/week-1-august-1st-august-7th/3410/)\n",
    "\n",
    "Design a HashSet without using any built-in hash table libraries.\n",
    "\n",
    "To be specific, your design should include these functions:\n",
    "\n",
    "- `add(value)`: Insert a value into the HashSet. \n",
    "- `contains(value)` : Return whether the value exists in the HashSet or not.\n",
    "- `remove(value)`: Remove a value in the HashSet. If the value does not exist in the HashSet, do nothing.\n"
   ]
  },
  {
   "cell_type": "code",
   "execution_count": 1,
   "metadata": {},
   "outputs": [],
   "source": [
    "class MyHashSet:\n",
    "\n",
    "    def __init__(self):\n",
    "        \"\"\"\n",
    "        Initialize your data structure here.\n",
    "        \"\"\"\n",
    "        self._num_buckets = 1000\n",
    "        self._buckets = [[] for _ in range(self._num_buckets)]\n",
    "        \n",
    "\n",
    "    def add(self, key: int) -> None:\n",
    "        \n",
    "        index = self._hash_func(key)\n",
    "        list_num = self._buckets[index]\n",
    "        if key not in list_num:\n",
    "            list_num.append(key)\n",
    "\n",
    "    def remove(self, key: int) -> None:\n",
    "        \n",
    "        index = self._hash_func(key)\n",
    "        list_num = self._buckets[index]\n",
    "        if key in list_num:\n",
    "            list_num.remove(key)\n",
    "\n",
    "    def contains(self, key: int) -> bool:\n",
    "        \"\"\"\n",
    "        Returns true if this set contains the specified element\n",
    "        \"\"\"\n",
    "        index = self._hash_func(key)\n",
    "        return key in self._buckets[index]\n",
    "        \n",
    "    def _hash_func(self, num):\n",
    "        return num % self._num_buckets"
   ]
  },
  {
   "cell_type": "code",
   "execution_count": 2,
   "metadata": {},
   "outputs": [
    {
     "name": "stdout",
     "output_type": "stream",
     "text": [
      "True\n",
      "False\n",
      "False\n"
     ]
    }
   ],
   "source": [
    "myset = MyHashSet()\n",
    "myset.add(5)\n",
    "print(myset.contains(5))\n",
    "print(myset.contains(6))\n",
    "myset.remove(5)\n",
    "print(myset.contains(5))"
   ]
  },
  {
   "cell_type": "markdown",
   "metadata": {},
   "source": [
    "***\n",
    "\n",
    "### Day 3: Valid Palindrome\n",
    "\n",
    "[Link](https://leetcode.com/explore/challenge/card/august-leetcoding-challenge/549/week-1-august-1st-august-7th/3411/)\n",
    "\n",
    "Given a string, determine if it is a palindrome, considering only alphanumeric characters and ignoring cases.\n",
    "\n",
    "**Note:** For the purpose of this problem, we define empty string as valid palindrome.\n",
    "\n",
    "**Example 1:**\n",
    "\n",
    "```Python\n",
    "Input: \"A man, a plan, a canal: Panama\"\n",
    "Output: true\n",
    "```\n",
    "\n",
    "**Example 2:**\n",
    "\n",
    "```Python\n",
    "Input: \"race a car\"\n",
    "Output: false\n",
    "``` \n",
    "\n",
    "**Constraints:**\n",
    "\n",
    "`s` consists only of printable ASCII characters."
   ]
  },
  {
   "cell_type": "code",
   "execution_count": 3,
   "metadata": {},
   "outputs": [],
   "source": [
    "def isPalindrome(s: str) -> bool:\n",
    "        \n",
    "    def is_alphanumeric(c):\n",
    "        if 65 <= ord(c) <= 90:\n",
    "            return True\n",
    "        if 97 <= ord(c) <= 122:\n",
    "            return True\n",
    "        if 48 <= ord(c) <= 57:\n",
    "            return True\n",
    "        return False\n",
    "\n",
    "    s = s.lower()    \n",
    "\n",
    "    i = 0\n",
    "    j = len(s) - 1\n",
    "    while True:\n",
    "        while i < len(s) and not is_alphanumeric(s[i]):\n",
    "            i += 1\n",
    "        while j >= 0 and not is_alphanumeric(s[j]):\n",
    "            j -= 1\n",
    "        if i > j:\n",
    "            break\n",
    "        if s[i] != s[j]:\n",
    "            return False\n",
    "        i += 1\n",
    "        j -= 1\n",
    "    return True"
   ]
  },
  {
   "cell_type": "code",
   "execution_count": 4,
   "metadata": {},
   "outputs": [
    {
     "name": "stdout",
     "output_type": "stream",
     "text": [
      "True\n",
      "False\n"
     ]
    }
   ],
   "source": [
    "print(isPalindrome(\"A man, a plan, a canal: Panama\"))\n",
    "print(isPalindrome(\"race a car\"))"
   ]
  },
  {
   "cell_type": "markdown",
   "metadata": {},
   "source": [
    "***\n",
    "### Day 4: Power of Four\n",
    "\n",
    "[Link](https://leetcode.com/explore/featured/card/august-leetcoding-challenge/549/week-1-august-1st-august-7th/3412/)\n",
    "\n",
    "Given an integer (signed 32 bits), write a function to check whether it is a power of 4.\n",
    "\n",
    "**Example 1:**\n",
    "```\n",
    "Input: 16\n",
    "Output: true\n",
    "```\n",
    "**Example 2:**\n",
    "```\n",
    "Input: 5\n",
    "Output: false\n",
    "```\n",
    "**Follow up:** Could you solve it without loops/recursion?"
   ]
  },
  {
   "cell_type": "code",
   "execution_count": 7,
   "metadata": {},
   "outputs": [],
   "source": [
    "def isPowerOfFour(num: int) -> bool:\n",
    "\n",
    "    nums = [1 << x for x in range(0, 32, 2)]\n",
    "    return num in nums"
   ]
  },
  {
   "cell_type": "code",
   "execution_count": 8,
   "metadata": {},
   "outputs": [
    {
     "name": "stdout",
     "output_type": "stream",
     "text": [
      "True\n",
      "False\n"
     ]
    }
   ],
   "source": [
    "print(isPowerOfFour(256))\n",
    "print(isPowerOfFour(128))"
   ]
  },
  {
   "cell_type": "code",
   "execution_count": null,
   "metadata": {},
   "outputs": [],
   "source": []
  }
 ],
 "metadata": {
  "kernelspec": {
   "display_name": "Python 3",
   "language": "python",
   "name": "python3"
  },
  "language_info": {
   "codemirror_mode": {
    "name": "ipython",
    "version": 3
   },
   "file_extension": ".py",
   "mimetype": "text/x-python",
   "name": "python",
   "nbconvert_exporter": "python",
   "pygments_lexer": "ipython3",
   "version": "3.8.2"
  }
 },
 "nbformat": 4,
 "nbformat_minor": 2
}
