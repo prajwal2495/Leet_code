{
 "cells": [
  {
   "cell_type": "markdown",
   "metadata": {},
   "source": [
    "## August LeetCode Challenge Solutions\n",
    "\n",
    "---\n",
    "\n",
    "|Day | Problem |\n",
    "| :---: | :-------- |\n",
    "| 1 | [Detect Capital](#Day-1:-Detect-Capital)|\n",
    "| 2 | [Design Hashset](#Day-2:-Design-Hashset)|\n",
    "| 3 | [Valid Palindrome](#Day-3:-Valid-Palindrome)|\n",
    "| 4 | [Power of Four](#Day-4:-Power-of-Four)|\n",
    "| 5 | [Add and Search Word - Data structure design](#Day-5:-Add-and-Search-Word)|\n",
    "| 6 | [Find all Duplicates](#Day-6:-Find-all-duplicates)|\n",
    "| 7 | [Vertical Order Traversal of a Binary Tree](#Day-7:-Vertical-Order-Traversal-of-a-Binary-Tree)|\n",
    "\n"
   ]
  },
  {
   "cell_type": "markdown",
   "metadata": {},
   "source": [
    "***\n",
    "\n",
    "### Day 1: Detect Capital\n",
    "\n",
    "[Link](https://leetcode.com/explore/challenge/card/august-leetcoding-challenge/549/week-1-august-1st-august-7th/3409/)\n",
    "\n",
    "Given a word, you need to judge whether the usage of capitals in it is right or not.\n",
    "\n",
    "We define the usage of capitals in a word to be right when one of the following cases holds:\n",
    "\n",
    "- All letters in this word are capitals, like \"USA\".\n",
    "- All letters in this word are not capitals, like \"leetcode\".\n",
    "- Only the first letter in this word is capital, like \"Google\".\n",
    "- Otherwise, we define that this word doesn't use capitals in a right way.\n",
    "\n",
    "**Example 1:**\n",
    "\n",
    "```Python\n",
    "Input: \"USA\"\n",
    "Output: True\n",
    "``` \n",
    "\n",
    "**Example 2:**\n",
    "\n",
    "```Python\n",
    "Input: \"FlaG\"\n",
    "Output: False\n",
    "``` \n",
    "\n",
    "**Note:** The input will be a non-empty word consisting of uppercase and lowercase latin letters."
   ]
  },
  {
   "cell_type": "code",
   "execution_count": 2,
   "metadata": {},
   "outputs": [],
   "source": [
    "def detectCapitalUse(word: str) -> bool:\n",
    "        \n",
    "    def check_all_caps(string):\n",
    "        for c in string:\n",
    "            if ord(c) > 96:\n",
    "                return False\n",
    "        return True\n",
    "\n",
    "    def check_all_small(string):\n",
    "        for c in string:\n",
    "            if ord(c) < 96:\n",
    "                return False\n",
    "        return True\n",
    "\n",
    "    def check_only_first_caps(string):\n",
    "        if ord(string[0]) > 96:\n",
    "            return False\n",
    "        for c in string[1:]:\n",
    "            if ord(c) < 96:\n",
    "                return False\n",
    "        return True\n",
    "\n",
    "    return check_all_caps(word) or check_all_small(word) or check_only_first_caps(word)"
   ]
  },
  {
   "cell_type": "code",
   "execution_count": 3,
   "metadata": {},
   "outputs": [
    {
     "name": "stdout",
     "output_type": "stream",
     "text": [
      "True\n",
      "True\n",
      "False\n"
     ]
    }
   ],
   "source": [
    "print(detectCapitalUse(\"ALLUPPER\"))\n",
    "print(detectCapitalUse(\"alllower\"))\n",
    "print(detectCapitalUse(\"InValid\"))"
   ]
  },
  {
   "cell_type": "markdown",
   "metadata": {},
   "source": [
    "***\n",
    "\n",
    "### Day 2: Design Hashset\n",
    "\n",
    "[Link](https://leetcode.com/explore/challenge/card/august-leetcoding-challenge/549/week-1-august-1st-august-7th/3410/)\n",
    "\n",
    "Design a HashSet without using any built-in hash table libraries.\n",
    "\n",
    "To be specific, your design should include these functions:\n",
    "\n",
    "- `add(value)`: Insert a value into the HashSet. \n",
    "- `contains(value)` : Return whether the value exists in the HashSet or not.\n",
    "- `remove(value)`: Remove a value in the HashSet. If the value does not exist in the HashSet, do nothing.\n"
   ]
  },
  {
   "cell_type": "code",
   "execution_count": 1,
   "metadata": {},
   "outputs": [],
   "source": [
    "class MyHashSet:\n",
    "\n",
    "    def __init__(self):\n",
    "        \"\"\"\n",
    "        Initialize your data structure here.\n",
    "        \"\"\"\n",
    "        self._num_buckets = 1000\n",
    "        self._buckets = [[] for _ in range(self._num_buckets)]\n",
    "        \n",
    "\n",
    "    def add(self, key: int) -> None:\n",
    "        \n",
    "        index = self._hash_func(key)\n",
    "        list_num = self._buckets[index]\n",
    "        if key not in list_num:\n",
    "            list_num.append(key)\n",
    "\n",
    "    def remove(self, key: int) -> None:\n",
    "        \n",
    "        index = self._hash_func(key)\n",
    "        list_num = self._buckets[index]\n",
    "        if key in list_num:\n",
    "            list_num.remove(key)\n",
    "\n",
    "    def contains(self, key: int) -> bool:\n",
    "        \"\"\"\n",
    "        Returns true if this set contains the specified element\n",
    "        \"\"\"\n",
    "        index = self._hash_func(key)\n",
    "        return key in self._buckets[index]\n",
    "        \n",
    "    def _hash_func(self, num):\n",
    "        return num % self._num_buckets"
   ]
  },
  {
   "cell_type": "code",
   "execution_count": 2,
   "metadata": {},
   "outputs": [
    {
     "name": "stdout",
     "output_type": "stream",
     "text": [
      "True\n",
      "False\n",
      "False\n"
     ]
    }
   ],
   "source": [
    "myset = MyHashSet()\n",
    "myset.add(5)\n",
    "print(myset.contains(5))\n",
    "print(myset.contains(6))\n",
    "myset.remove(5)\n",
    "print(myset.contains(5))"
   ]
  },
  {
   "cell_type": "markdown",
   "metadata": {},
   "source": [
    "***\n",
    "\n",
    "### Day 3: Valid Palindrome\n",
    "\n",
    "[Link](https://leetcode.com/explore/challenge/card/august-leetcoding-challenge/549/week-1-august-1st-august-7th/3411/)\n",
    "\n",
    "Given a string, determine if it is a palindrome, considering only alphanumeric characters and ignoring cases.\n",
    "\n",
    "**Note:** For the purpose of this problem, we define empty string as valid palindrome.\n",
    "\n",
    "**Example 1:**\n",
    "\n",
    "```Python\n",
    "Input: \"A man, a plan, a canal: Panama\"\n",
    "Output: true\n",
    "```\n",
    "\n",
    "**Example 2:**\n",
    "\n",
    "```Python\n",
    "Input: \"race a car\"\n",
    "Output: false\n",
    "``` \n",
    "\n",
    "**Constraints:**\n",
    "\n",
    "`s` consists only of printable ASCII characters."
   ]
  },
  {
   "cell_type": "code",
   "execution_count": 3,
   "metadata": {},
   "outputs": [],
   "source": [
    "def isPalindrome(s: str) -> bool:\n",
    "        \n",
    "    def is_alphanumeric(c):\n",
    "        if 65 <= ord(c) <= 90:\n",
    "            return True\n",
    "        if 97 <= ord(c) <= 122:\n",
    "            return True\n",
    "        if 48 <= ord(c) <= 57:\n",
    "            return True\n",
    "        return False\n",
    "\n",
    "    s = s.lower()    \n",
    "\n",
    "    i = 0\n",
    "    j = len(s) - 1\n",
    "    while True:\n",
    "        while i < len(s) and not is_alphanumeric(s[i]):\n",
    "            i += 1\n",
    "        while j >= 0 and not is_alphanumeric(s[j]):\n",
    "            j -= 1\n",
    "        if i > j:\n",
    "            break\n",
    "        if s[i] != s[j]:\n",
    "            return False\n",
    "        i += 1\n",
    "        j -= 1\n",
    "    return True"
   ]
  },
  {
   "cell_type": "code",
   "execution_count": 4,
   "metadata": {},
   "outputs": [
    {
     "name": "stdout",
     "output_type": "stream",
     "text": [
      "True\n",
      "False\n"
     ]
    }
   ],
   "source": [
    "print(isPalindrome(\"A man, a plan, a canal: Panama\"))\n",
    "print(isPalindrome(\"race a car\"))"
   ]
  },
  {
   "cell_type": "markdown",
   "metadata": {},
   "source": [
    "***\n",
    "### Day 4: Power of Four\n",
    "\n",
    "[Link](https://leetcode.com/explore/featured/card/august-leetcoding-challenge/549/week-1-august-1st-august-7th/3412/)\n",
    "\n",
    "Given an integer (signed 32 bits), write a function to check whether it is a power of 4.\n",
    "\n",
    "**Example 1:**\n",
    "```\n",
    "Input: 16\n",
    "Output: true\n",
    "```\n",
    "**Example 2:**\n",
    "```\n",
    "Input: 5\n",
    "Output: false\n",
    "```\n",
    "**Follow up:** Could you solve it without loops/recursion?"
   ]
  },
  {
   "cell_type": "code",
   "execution_count": 7,
   "metadata": {},
   "outputs": [],
   "source": [
    "def isPowerOfFour(num: int) -> bool:\n",
    "\n",
    "    nums = [1 << x for x in range(0, 32, 2)]\n",
    "    return num in nums"
   ]
  },
  {
   "cell_type": "code",
   "execution_count": 8,
   "metadata": {},
   "outputs": [
    {
     "name": "stdout",
     "output_type": "stream",
     "text": [
      "True\n",
      "False\n"
     ]
    }
   ],
   "source": [
    "print(isPowerOfFour(256))\n",
    "print(isPowerOfFour(128))"
   ]
  },
  {
   "cell_type": "markdown",
   "metadata": {},
   "source": [
    "***\n",
    "### Day 5: Add and Search Word\n",
    "\n",
    "[Link](https://leetcode.com/explore/challenge/card/august-leetcoding-challenge/549/week-1-august-1st-august-7th/3413/)\n",
    "\n",
    "Design a data structure that supports the following two operations:\n",
    "\n",
    "```\n",
    "void addWord(word)\n",
    "bool search(word)\n",
    "```\n",
    "`search(word)` can search a literal word or a regular expression string containing only letters a-z or .. A . means it can represent any one letter.\n",
    "\n",
    "***Example:***\n",
    "```\n",
    "addWord(\"bad\")\n",
    "addWord(\"dad\")\n",
    "addWord(\"mad\")\n",
    "search(\"pad\") -> false\n",
    "search(\"bad\") -> true\n",
    "search(\".ad\") -> true\n",
    "search(\"b..\") -> true\n",
    "```\n",
    "***Note:*** You may assume that all words are consist of lowercase letters `a-z`."
   ]
  },
  {
   "cell_type": "code",
   "execution_count": 9,
   "metadata": {},
   "outputs": [],
   "source": [
    "class Node:\n",
    "    \n",
    "    mask = []\n",
    "    is_complete = False\n",
    "    \n",
    "    def __init__(self):        \n",
    "        self.mask = [None for i in range(26)]\n",
    "        self.is_complete = False\n",
    "\n",
    "class WordDictionary:\n",
    "\n",
    "    def __init__(self):\n",
    "        \"\"\"\n",
    "        Initialize your data structure here.\n",
    "        \"\"\"\n",
    "        self.head = Node()\n",
    "        \n",
    "\n",
    "    def addWord(self, word: str) -> None:\n",
    "        \"\"\"\n",
    "        Adds a word into the data structure.\n",
    "        \"\"\"\n",
    "        cur = self.head\n",
    "        for i, c in enumerate(word):\n",
    "            index = ord(c)-97\n",
    "            \n",
    "            if cur.mask[index] == None:\n",
    "                cur.mask[index] = Node()\n",
    "            cur = cur.mask[index]\n",
    "            \n",
    "        cur.is_complete = True      \n",
    "\n",
    "    def search(self, word: str) -> bool:\n",
    "        \"\"\"\n",
    "        Returns if the word is in the data structure. A word could contain the dot character '.' to represent any one letter.\n",
    "        \"\"\"\n",
    "        \n",
    "        def recursive_search(node, word, idx):\n",
    "            if idx == len(word):\n",
    "                return node.is_complete\n",
    "            \n",
    "            c = word[idx]\n",
    "            \n",
    "            found = False\n",
    "            if c == '.':\n",
    "                for i in range(26):\n",
    "                    if node.mask[i]:\n",
    "                        found = recursive_search(node.mask[i], word, idx+1)\n",
    "                    if found:\n",
    "                        return True\n",
    "                return False\n",
    "            else:\n",
    "                index = ord(c) - 97\n",
    "                if node.mask[index]:\n",
    "                    return recursive_search(node.mask[index], word, idx+1)\n",
    "                else:\n",
    "                    return False\n",
    "        \n",
    "        return recursive_search(self.head, word, 0)\n",
    "        "
   ]
  },
  {
   "cell_type": "code",
   "execution_count": 12,
   "metadata": {},
   "outputs": [
    {
     "name": "stdout",
     "output_type": "stream",
     "text": [
      "True\n",
      "False\n",
      "True\n",
      "False\n",
      "False\n"
     ]
    }
   ],
   "source": [
    "d = WordDictionary()\n",
    "d.addWord(\"bat\")\n",
    "d.addWord(\"cat\")\n",
    "print(d.search(\"bat\"))\n",
    "print(d.search(\"rat\"))\n",
    "print(d.search(\".at\"))\n",
    "print(d.search(\"..\"))\n",
    "print(d.search(\".ax\"))"
   ]
  },
  {
   "cell_type": "markdown",
   "metadata": {},
   "source": [
    "***\n",
    "### Day 6: Find all duplicates\n",
    "\n",
    "[Link](https://leetcode.com/explore/challenge/card/august-leetcoding-challenge/549/week-1-august-1st-august-7th/3414/)\n",
    "\n",
    "Given an array of integers, `1 ≤ a[i] ≤ n` (n = size of array), some elements appear twice and others appear once.\n",
    "\n",
    "Find all the elements that appear twice in this array.\n",
    "\n",
    "Could you do it without extra space and in `O(n)` runtime?\n",
    "\n",
    "**Example:**\n",
    "```Python\n",
    "Input:\n",
    "[4,3,2,7,8,2,3,1]\n",
    "\n",
    "Output:\n",
    "[2,3]\n",
    "```"
   ]
  },
  {
   "cell_type": "code",
   "execution_count": 2,
   "metadata": {},
   "outputs": [],
   "source": [
    "def findDuplicates(nums):\n",
    "    # normal\n",
    "    \"\"\"\n",
    "    bag = set()\n",
    "    res = []\n",
    "    for n in nums:\n",
    "        if n in bag:\n",
    "            res.append(n)\n",
    "        bag.add(n)\n",
    "    return res\n",
    "    \"\"\"\n",
    "    res = []\n",
    "    for n in nums:\n",
    "        index = abs(n)-1\n",
    "        if nums[index] < 0:\n",
    "            res.append(index+1)\n",
    "        nums[index] = -nums[index]\n",
    "    return res"
   ]
  },
  {
   "cell_type": "code",
   "execution_count": 3,
   "metadata": {},
   "outputs": [
    {
     "name": "stdout",
     "output_type": "stream",
     "text": [
      "[2, 3]\n"
     ]
    }
   ],
   "source": [
    "print(findDuplicates([4,3,2,7,8,2,3,1]))"
   ]
  },
  {
   "cell_type": "markdown",
   "metadata": {},
   "source": [
    "***\n",
    "### Day 7: Vertical Order Traversal of a Binary Tree\n",
    "\n",
    "[Link](https://leetcode.com/explore/challenge/card/august-leetcoding-challenge/549/week-1-august-1st-august-7th/3415/)\n",
    "\n",
    "Given a binary tree, return the vertical order traversal of its nodes values.\n",
    "\n",
    "For each node at position `(X, Y)`, its left and right children respectively will be at positions `(X-1, Y-1)` and `(X+1, Y-1)`.\n",
    "\n",
    "Running a vertical line from `X = -infinity to X = +infinity`, whenever the vertical line touches some nodes, we report the values of the nodes in order from top to bottom (decreasing Y coordinates).\n",
    "\n",
    "If two nodes have the same position, then the value of the node that is reported first is the value that is smaller.\n",
    "\n",
    "Return an list of non-empty reports in order of `X` coordinate.  Every report will have a list of values of nodes.\n",
    "\n",
    " \n",
    "\n",
    "**Example 1:**\n",
    "\n",
    "![alt text](https://assets.leetcode.com/uploads/2019/01/31/1236_example_1.PNG)\n",
    "\n",
    "```Python\n",
    "Input: [3,9,20,null,null,15,7]\n",
    "Output: [[9],[3,15],[20],[7]]\n",
    "Explanation: \n",
    "Without loss of generality, we can assume the root node is at position (0, 0):\n",
    "Then, the node with value 9 occurs at position (-1, -1);\n",
    "The nodes with values 3 and 15 occur at positions (0, 0) and (0, -2);\n",
    "The node with value 20 occurs at position (1, -1);\n",
    "The node with value 7 occurs at position (2, -2).\n",
    "```\n",
    "\n",
    "**Example 2:**\n",
    "\n",
    "![alt text](https://assets.leetcode.com/uploads/2019/01/31/tree2.png)\n",
    "\n",
    "```Python\n",
    "Input: [1,2,3,4,5,6,7]\n",
    "Output: [[4],[2],[1,5,6],[3],[7]]\n",
    "Explanation: \n",
    "The node with value 5 and the node with value 6 have the same position according to the given scheme.\n",
    "However, in the report \"[1,5,6]\", the node value of 5 comes first since 5 is smaller than 6.\n",
    "``` \n",
    "\n",
    "**Note:**\n",
    "\n",
    "- The tree will have between `1 and 1000` nodes.\n",
    "- Each node's value will be between `0 and 1000`.\n",
    " "
   ]
  },
  {
   "cell_type": "code",
   "execution_count": 4,
   "metadata": {},
   "outputs": [],
   "source": [
    "# Definition for a binary tree node.\n",
    "class TreeNode:\n",
    "    def __init__(self, val=0, left=None, right=None):\n",
    "        self.val = val\n",
    "        self.left = left\n",
    "        self.right = right\n",
    "\n",
    "def verticalTraversal(self, root: TreeNode):\n",
    "\n",
    "    positions = []\n",
    "\n",
    "    def traverse(node, x, y):\n",
    "        if node == None:\n",
    "            return\n",
    "        traverse(node.left, x-1, y-1)\n",
    "        positions.append((x, y, node.val))\n",
    "        traverse(node.right, x+1, y-1)\n",
    "\n",
    "    traverse(root, 0, 0)\n",
    "\n",
    "    sorted_pos = sorted(positions, key=lambda node:(node[0], -node[1], node[2]))\n",
    "    res = [[sorted_pos[0][2]]]\n",
    "    cur_x = sorted_pos[0][0]\n",
    "\n",
    "    for x,y,val in sorted_pos[1:]:\n",
    "        if x == cur_x:\n",
    "            res[-1].append(val)\n",
    "        else:\n",
    "            res.append([val])\n",
    "            cur_x = x\n",
    "    return res"
   ]
  },
  {
   "cell_type": "code",
   "execution_count": null,
   "metadata": {},
   "outputs": [],
   "source": []
  }
 ],
 "metadata": {
  "kernelspec": {
   "display_name": "Python 3",
   "language": "python",
   "name": "python3"
  },
  "language_info": {
   "codemirror_mode": {
    "name": "ipython",
    "version": 3
   },
   "file_extension": ".py",
   "mimetype": "text/x-python",
   "name": "python",
   "nbconvert_exporter": "python",
   "pygments_lexer": "ipython3",
   "version": "3.8.2"
  }
 },
 "nbformat": 4,
 "nbformat_minor": 2
}
