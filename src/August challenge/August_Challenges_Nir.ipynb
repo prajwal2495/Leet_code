{
 "cells": [
  {
   "cell_type": "markdown",
   "metadata": {},
   "source": [
    "## August LeetCode Challenge Solutions\n",
    "\n",
    "|Day | Problem |\n",
    "| :---: | :-------- |\n",
    "| 1 | [Detect Capital](#Day-1)|\n",
    "| 2 | [Design Hashset](#Day-2)|"
   ]
  },
  {
   "cell_type": "markdown",
   "metadata": {},
   "source": [
    "### Day 1\n",
    "\n",
    "[Link](https://leetcode.com/explore/challenge/card/august-leetcoding-challenge/549/week-1-august-1st-august-7th/3409/)\n",
    "\n",
    "Given a word, you need to judge whether the usage of capitals in it is right or not.\n",
    "\n",
    "We define the usage of capitals in a word to be right when one of the following cases holds:\n",
    "\n",
    "- All letters in this word are capitals, like \"USA\".\n",
    "- All letters in this word are not capitals, like \"leetcode\".\n",
    "- Only the first letter in this word is capital, like \"Google\".\n",
    "- Otherwise, we define that this word doesn't use capitals in a right way.\n",
    "\n",
    "Example 1:\n",
    "\n",
    "```Python\n",
    "Input: \"USA\"\n",
    "Output: True\n",
    "``` \n",
    "\n",
    "Example 2:\n",
    "\n",
    "```Python\n",
    "Input: \"FlaG\"\n",
    "Output: False\n",
    "``` \n",
    "\n",
    "Note: The input will be a non-empty word consisting of uppercase and lowercase latin letters."
   ]
  },
  {
   "cell_type": "code",
   "execution_count": 2,
   "metadata": {},
   "outputs": [],
   "source": [
    "def detectCapitalUse(word: str) -> bool:\n",
    "        \n",
    "    def check_all_caps(string):\n",
    "        for c in string:\n",
    "            if ord(c) > 96:\n",
    "                return False\n",
    "        return True\n",
    "\n",
    "    def check_all_small(string):\n",
    "        for c in string:\n",
    "            if ord(c) < 96:\n",
    "                return False\n",
    "        return True\n",
    "\n",
    "    def check_only_first_caps(string):\n",
    "        if ord(string[0]) > 96:\n",
    "            return False\n",
    "        for c in string[1:]:\n",
    "            if ord(c) < 96:\n",
    "                return False\n",
    "        return True\n",
    "\n",
    "    return check_all_caps(word) or check_all_small(word) or check_only_first_caps(word)"
   ]
  },
  {
   "cell_type": "code",
   "execution_count": 3,
   "metadata": {},
   "outputs": [
    {
     "name": "stdout",
     "output_type": "stream",
     "text": [
      "True\n",
      "True\n",
      "False\n"
     ]
    }
   ],
   "source": [
    "print(detectCapitalUse(\"ALLUPPER\"))\n",
    "print(detectCapitalUse(\"alllower\"))\n",
    "print(detectCapitalUse(\"InValid\"))"
   ]
  },
  {
   "cell_type": "markdown",
   "metadata": {},
   "source": [
    "### Day 2\n",
    "\n",
    "[Link](https://leetcode.com/explore/challenge/card/august-leetcoding-challenge/549/week-1-august-1st-august-7th/3410/)\\\n",
    "Design a HashSet without using any built-in hash table libraries.\n",
    "\n",
    "To be specific, your design should include these functions:\n",
    "\n",
    "- `add(value)`: Insert a value into the HashSet. \n",
    "- `contains(value)` : Return whether the value exists in the HashSet or not.\n",
    "- `remove(value)`: Remove a value in the HashSet. If the value does not exist in the HashSet, do nothing.\n"
   ]
  },
  {
   "cell_type": "code",
   "execution_count": null,
   "metadata": {},
   "outputs": [],
   "source": []
  }
 ],
 "metadata": {
  "kernelspec": {
   "display_name": "Python 3",
   "language": "python",
   "name": "python3"
  },
  "language_info": {
   "codemirror_mode": {
    "name": "ipython",
    "version": 3
   },
   "file_extension": ".py",
   "mimetype": "text/x-python",
   "name": "python",
   "nbconvert_exporter": "python",
   "pygments_lexer": "ipython3",
   "version": "3.7.1"
  }
 },
 "nbformat": 4,
 "nbformat_minor": 2
}
